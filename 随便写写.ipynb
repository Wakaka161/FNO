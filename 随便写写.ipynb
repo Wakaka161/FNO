{
 "cells": [
  {
   "cell_type": "code",
   "execution_count": 26,
   "id": "f6e01276",
   "metadata": {},
   "outputs": [],
   "source": [
    "import numpy as np\n",
    "import torch\n",
    "import torch.nn as nn\n",
    "import torch.nn.functional as F\n",
    "from utilities3 import *"
   ]
  },
  {
   "cell_type": "code",
   "execution_count": 27,
   "id": "c4696c27",
   "metadata": {},
   "outputs": [
    {
     "name": "stdout",
     "output_type": "stream",
     "text": [
      "tensor([[[0.4198, 0.5385, 0.9359, 0.6843, 0.4963, 0.7030, 0.8310, 0.2056,\n",
      "          0.4931, 0.5389, 0.7964, 0.7776, 0.8973, 0.1605, 0.9513, 0.0194],\n",
      "         [0.7357, 0.0321, 0.6628, 0.8202, 0.4599, 0.8707, 0.9174, 0.1027,\n",
      "          0.8560, 0.2628, 0.3131, 0.9774, 0.1574, 0.5358, 0.1196, 0.5126],\n",
      "         [0.0755, 0.1678, 0.9048, 0.5787, 0.8180, 0.7074, 0.2156, 0.9227,\n",
      "          0.7445, 0.8277, 0.4418, 0.6596, 0.5394, 0.2583, 0.8870, 0.2772]],\n",
      "\n",
      "        [[0.2732, 0.6573, 0.1685, 0.7643, 0.2781, 0.0430, 0.3679, 0.2020,\n",
      "          0.8840, 0.5996, 0.0193, 0.2427, 0.3979, 0.0462, 0.5231, 0.4667],\n",
      "         [0.9846, 0.5610, 0.3517, 0.2085, 0.6878, 0.9548, 0.3078, 0.3525,\n",
      "          0.9226, 0.1554, 0.2621, 0.5508, 0.4194, 0.3190, 0.1376, 0.9556],\n",
      "         [0.0374, 0.1860, 0.6286, 0.0670, 0.8286, 0.1456, 0.4489, 0.0157,\n",
      "          0.5356, 0.0386, 0.6092, 0.9275, 0.6353, 0.4367, 0.0388, 0.7099]]],\n",
      "       dtype=torch.float64)\n",
      "tensor([[0.1037, 0.0840, 0.5426, 0.0566, 0.1543, 0.4666, 0.3274, 0.0026, 0.2764,\n",
      "         0.0429, 0.5495, 0.3782, 0.3531, 0.0808, 0.3028, 0.3163],\n",
      "        [0.1760, 0.3740, 0.2199, 0.4325, 0.1612, 0.0594, 0.4310, 0.1766, 0.0471,\n",
      "         0.0759, 0.0361, 0.3016, 0.1852, 0.1533, 0.0127, 0.3133],\n",
      "        [0.0269, 0.0129, 0.1953, 0.3618, 0.0075, 0.3973, 0.1649, 0.6413, 0.1478,\n",
      "         0.5579, 0.1184, 0.1894, 0.0678, 0.1262, 0.5998, 0.3059]],\n",
      "       dtype=torch.float64)\n"
     ]
    }
   ],
   "source": [
    "x=torch.rand(1,96,dtype=float).reshape(2,3,16)\n",
    "print(x)\n",
    "print(torch.std(x,0))"
   ]
  },
  {
   "cell_type": "code",
   "execution_count": 28,
   "id": "cd37994c",
   "metadata": {},
   "outputs": [],
   "source": [
    "x_normalizer = UnitGaussianNormalizer(x)"
   ]
  },
  {
   "cell_type": "code",
   "execution_count": 29,
   "id": "9689a652",
   "metadata": {},
   "outputs": [
    {
     "data": {
      "text/plain": [
       "tensor([[[ 0.7070, -0.7070,  0.7071, -0.7070,  0.7071,  0.7071,  0.7071,\n",
       "           0.7044, -0.7071, -0.7069,  0.7071,  0.7071,  0.7071,  0.7070,\n",
       "           0.7071, -0.7071],\n",
       "         [-0.7071, -0.7071,  0.7071,  0.7071, -0.7071, -0.7070,  0.7071,\n",
       "          -0.7071, -0.7070,  0.7070,  0.7069,  0.7071, -0.7071,  0.7071,\n",
       "          -0.7066, -0.7071],\n",
       "         [ 0.7068, -0.7066,  0.7071,  0.7071, -0.7062,  0.7071, -0.7071,\n",
       "           0.7071,  0.7071,  0.7071, -0.7070, -0.7071, -0.7070, -0.7071,\n",
       "           0.7071, -0.7071]],\n",
       "\n",
       "        [[-0.7070,  0.7070, -0.7071,  0.7070, -0.7071, -0.7071, -0.7071,\n",
       "          -0.7044,  0.7071,  0.7069, -0.7071, -0.7071, -0.7071, -0.7070,\n",
       "          -0.7071,  0.7071],\n",
       "         [ 0.7071,  0.7071, -0.7071, -0.7071,  0.7071,  0.7070, -0.7071,\n",
       "           0.7071,  0.7070, -0.7070, -0.7069, -0.7071,  0.7071, -0.7071,\n",
       "           0.7066,  0.7071],\n",
       "         [-0.7068,  0.7066, -0.7071, -0.7071,  0.7062, -0.7071,  0.7071,\n",
       "          -0.7071, -0.7071, -0.7071,  0.7070,  0.7071,  0.7070,  0.7071,\n",
       "          -0.7071,  0.7071]]], dtype=torch.float64)"
      ]
     },
     "execution_count": 29,
     "metadata": {},
     "output_type": "execute_result"
    }
   ],
   "source": [
    "x = x_normalizer.encode(x)\n",
    "x"
   ]
  },
  {
   "cell_type": "code",
   "execution_count": 30,
   "id": "7986f4dd",
   "metadata": {},
   "outputs": [
    {
     "name": "stdout",
     "output_type": "stream",
     "text": [
      "tensor([[[0.4198, 0.5385, 0.9359, 0.6843, 0.4963, 0.7030, 0.8310, 0.2056,\n",
      "          0.4931, 0.5389, 0.7964, 0.7776, 0.8973, 0.1605, 0.9513, 0.0194],\n",
      "         [0.7357, 0.0321, 0.6628, 0.8202, 0.4599, 0.8707, 0.9174, 0.1027,\n",
      "          0.8560, 0.2628, 0.3131, 0.9774, 0.1574, 0.5358, 0.1196, 0.5126],\n",
      "         [0.0755, 0.1678, 0.9048, 0.5787, 0.8180, 0.7074, 0.2156, 0.9227,\n",
      "          0.7445, 0.8277, 0.4418, 0.6596, 0.5394, 0.2583, 0.8870, 0.2772]],\n",
      "\n",
      "        [[0.2732, 0.6573, 0.1685, 0.7643, 0.2781, 0.0430, 0.3679, 0.2020,\n",
      "          0.8840, 0.5996, 0.0193, 0.2427, 0.3979, 0.0462, 0.5231, 0.4667],\n",
      "         [0.9846, 0.5610, 0.3517, 0.2085, 0.6878, 0.9548, 0.3078, 0.3525,\n",
      "          0.9226, 0.1554, 0.2621, 0.5508, 0.4194, 0.3190, 0.1376, 0.9556],\n",
      "         [0.0374, 0.1860, 0.6286, 0.0670, 0.8286, 0.1456, 0.4489, 0.0157,\n",
      "          0.5356, 0.0386, 0.6092, 0.9275, 0.6353, 0.4367, 0.0388, 0.7099]]],\n",
      "       dtype=torch.float64)\n"
     ]
    }
   ],
   "source": [
    "x=x_normalizer.decode(x)\n",
    "print(x)"
   ]
  },
  {
   "cell_type": "code",
   "execution_count": 81,
   "id": "18306729",
   "metadata": {},
   "outputs": [],
   "source": [
    "x=torch.rand([10,2,1024]).unsqueeze(dim=1)\n",
    "conv1d_layer = nn.Conv2d(1,4,[2,8],bias = False)\n",
    "y = conv1d_layer(x)"
   ]
  },
  {
   "cell_type": "code",
   "execution_count": 82,
   "id": "bb107949",
   "metadata": {},
   "outputs": [
    {
     "name": "stdout",
     "output_type": "stream",
     "text": [
      "torch.Size([10, 1, 2, 1024])\n",
      "torch.Size([10, 4, 1, 1017])\n",
      "Parameter containing:\n",
      "tensor([[[[ 0.1120,  0.1120, -0.2333,  0.1419, -0.0964,  0.1951,  0.1579,\n",
      "           -0.2244],\n",
      "          [ 0.0610,  0.0854, -0.0089,  0.0074, -0.2210,  0.1194,  0.0453,\n",
      "           -0.0159]]],\n",
      "\n",
      "\n",
      "        [[[ 0.0957, -0.0951,  0.2082, -0.1605, -0.1172,  0.1895,  0.1500,\n",
      "           -0.2232],\n",
      "          [ 0.1012, -0.0386, -0.0492, -0.0667,  0.0674,  0.0410, -0.1366,\n",
      "            0.1445]]],\n",
      "\n",
      "\n",
      "        [[[ 0.0515,  0.2248, -0.0968,  0.0802,  0.1117, -0.2204, -0.2407,\n",
      "            0.0396],\n",
      "          [ 0.0309,  0.1010, -0.1424,  0.2482,  0.1021, -0.0376, -0.1990,\n",
      "            0.0706]]],\n",
      "\n",
      "\n",
      "        [[[ 0.0827,  0.0436,  0.0342,  0.1553, -0.0519, -0.1019,  0.0344,\n",
      "            0.2115],\n",
      "          [-0.1966,  0.2191,  0.0641,  0.1305,  0.0582, -0.0091, -0.1939,\n",
      "           -0.1711]]]], requires_grad=True)\n"
     ]
    }
   ],
   "source": [
    "print(x.shape)\n",
    "print(y.shape)\n",
    "print(conv1d_layer.weight)"
   ]
  },
  {
   "cell_type": "code",
   "execution_count": 63,
   "id": "ad08028a",
   "metadata": {},
   "outputs": [
    {
     "name": "stdout",
     "output_type": "stream",
     "text": [
      "tensor([ 0., 10., 20., 30., 40.])\n",
      "tensor([ 0.3941, -0.4271, -0.3221,  0.1499,  0.1428],\n",
      "       grad_fn=<SelectBackward0>)\n"
     ]
    },
    {
     "data": {
      "text/plain": [
       "tensor(-0.5035, grad_fn=<DotBackward0>)"
      ]
     },
     "execution_count": 63,
     "metadata": {},
     "output_type": "execute_result"
    }
   ],
   "source": [
    "weight = conv1d_layer.weight\n",
    "print(x[0,:,0])\n",
    "print(weight[0,:,0])\n",
    "x[0,:,0] @ weight[0,:,0]\n"
   ]
  },
  {
   "cell_type": "code",
   "execution_count": 3,
   "id": "d67ec17d",
   "metadata": {},
   "outputs": [
    {
     "data": {
      "text/plain": [
       "[1, 2, 1, 2, 1, 2]"
      ]
     },
     "execution_count": 3,
     "metadata": {},
     "output_type": "execute_result"
    }
   ],
   "source": [
    "x = [1,2]\n",
    "y=[3]\n",
    "x*3"
   ]
  },
  {
   "cell_type": "code",
   "execution_count": 2,
   "id": "d6048026",
   "metadata": {},
   "outputs": [
    {
     "ename": "TypeError",
     "evalue": "can only concatenate tuple (not \"int\") to tuple",
     "output_type": "error",
     "traceback": [
      "\u001b[1;31m---------------------------------------------------------------------------\u001b[0m",
      "\u001b[1;31mTypeError\u001b[0m                                 Traceback (most recent call last)",
      "Input \u001b[1;32mIn [2]\u001b[0m, in \u001b[0;36m<cell line: 3>\u001b[1;34m()\u001b[0m\n\u001b[0;32m      1\u001b[0m x\u001b[38;5;241m=\u001b[39m(\u001b[38;5;241m1\u001b[39m,\u001b[38;5;241m2\u001b[39m)\n\u001b[0;32m      2\u001b[0m y\u001b[38;5;241m=\u001b[39m(\u001b[38;5;241m3\u001b[39m)\n\u001b[1;32m----> 3\u001b[0m \u001b[43mx\u001b[49m\u001b[38;5;241;43m+\u001b[39;49m\u001b[43my\u001b[49m\n",
      "\u001b[1;31mTypeError\u001b[0m: can only concatenate tuple (not \"int\") to tuple"
     ]
    }
   ],
   "source": [
    "x=(1,2)\n",
    "y=(3)\n",
    "x+y"
   ]
  },
  {
   "cell_type": "code",
   "execution_count": 6,
   "id": "4cdbae48",
   "metadata": {},
   "outputs": [
    {
     "data": {
      "text/plain": [
       "[[], [], [], [], [], [], [], [], [], []]"
      ]
     },
     "execution_count": 6,
     "metadata": {},
     "output_type": "execute_result"
    }
   ],
   "source": [
    "[[] for i in range(10)]"
   ]
  },
  {
   "cell_type": "code",
   "execution_count": 26,
   "id": "ca4e8eed",
   "metadata": {},
   "outputs": [],
   "source": [
    "x=torch.rand([10,1,2,1024])\n"
   ]
  },
  {
   "cell_type": "code",
   "execution_count": 30,
   "id": "6a534849",
   "metadata": {},
   "outputs": [],
   "source": [
    "conv1d_layer = nn.Conv2d(1,16,kernel_size=[2,5])\n",
    "t = conv1d_layer(x)"
   ]
  },
  {
   "cell_type": "code",
   "execution_count": 31,
   "id": "b7da0e6c",
   "metadata": {},
   "outputs": [
    {
     "name": "stdout",
     "output_type": "stream",
     "text": [
      "torch.Size([10, 16, 1, 1020])\n"
     ]
    }
   ],
   "source": [
    "print(t.shape)"
   ]
  },
  {
   "cell_type": "code",
   "execution_count": 10,
   "id": "9471414d",
   "metadata": {},
   "outputs": [
    {
     "name": "stdout",
     "output_type": "stream",
     "text": [
      "Tue Oct  4 00:34:26 2022       \n",
      "+-----------------------------------------------------------------------------+\n",
      "| NVIDIA-SMI 516.94       Driver Version: 516.94       CUDA Version: 11.7     |\n",
      "|-------------------------------+----------------------+----------------------+\n",
      "| GPU  Name            TCC/WDDM | Bus-Id        Disp.A | Volatile Uncorr. ECC |\n",
      "| Fan  Temp  Perf  Pwr:Usage/Cap|         Memory-Usage | GPU-Util  Compute M. |\n",
      "|                               |                      |               MIG M. |\n",
      "|===============================+======================+======================|\n",
      "|   0  NVIDIA GeForce ... WDDM  | 00000000:01:00.0 Off |                  N/A |\n",
      "| N/A   79C    P0    42W /  N/A |   3326MiB /  4096MiB |     74%      Default |\n",
      "|                               |                      |                  N/A |\n",
      "+-------------------------------+----------------------+----------------------+\n",
      "                                                                               \n",
      "+-----------------------------------------------------------------------------+\n",
      "| Processes:                                                                  |\n",
      "|  GPU   GI   CI        PID   Type   Process name                  GPU Memory |\n",
      "|        ID   ID                                                   Usage      |\n",
      "|=============================================================================|\n",
      "|    0   N/A  N/A      1228    C+G   ...t\\QQBrowser\\QQBrowser.exe    N/A      |\n",
      "|    0   N/A  N/A      1812      C   ...l\\envs\\pytorch\\python.exe    N/A      |\n",
      "|    0   N/A  N/A      2716    C+G   ...llMobileConnectClient.exe    N/A      |\n",
      "|    0   N/A  N/A      5032    C+G   ...2txyewy\\TextInputHost.exe    N/A      |\n",
      "|    0   N/A  N/A      5540      C   ...l\\envs\\pytorch\\python.exe    N/A      |\n",
      "|    0   N/A  N/A      7760    C+G   ...e\\PhoneExperienceHost.exe    N/A      |\n",
      "|    0   N/A  N/A     10604    C+G   ...n1h2txyewy\\SearchHost.exe    N/A      |\n",
      "|    0   N/A  N/A     10628    C+G   ...artMenuExperienceHost.exe    N/A      |\n",
      "|    0   N/A  N/A     11672    C+G   ...onnectUniversalClient.exe    N/A      |\n",
      "|    0   N/A  N/A     11792    C+G   ...4__htrsf667h5kn2\\AWCC.exe    N/A      |\n",
      "|    0   N/A  N/A     16592      C   ...l\\envs\\pytorch\\python.exe    N/A      |\n",
      "+-----------------------------------------------------------------------------+\n"
     ]
    }
   ],
   "source": [
    "!nvidia-smi"
   ]
  },
  {
   "cell_type": "code",
   "execution_count": 6,
   "id": "ee92355f",
   "metadata": {},
   "outputs": [
    {
     "data": {
      "text/plain": [
       "<torch.cuda.device at 0x2309e8ed970>"
      ]
     },
     "execution_count": 6,
     "metadata": {},
     "output_type": "execute_result"
    }
   ],
   "source": [
    "torch.cuda.device('cuda:2')"
   ]
  },
  {
   "cell_type": "code",
   "execution_count": 35,
   "id": "be3eee81",
   "metadata": {},
   "outputs": [],
   "source": [
    "class Permute(nn.Module):\n",
    "    def __init__(self, *args):\n",
    "        super().__init__()\n",
    "        self.dim = args\n",
    "\n",
    "    def forward(self, x):\n",
    "        x = x.permute(dims = self.dim)\n",
    "        return x"
   ]
  },
  {
   "cell_type": "code",
   "execution_count": 36,
   "id": "67993d14",
   "metadata": {},
   "outputs": [
    {
     "data": {
      "text/plain": [
       "torch.Size([1, 3, 16])"
      ]
     },
     "execution_count": 36,
     "metadata": {},
     "output_type": "execute_result"
    }
   ],
   "source": [
    "permute=Permute(0,2,1)\n",
    "x=torch.arange(0,48).reshape(1,3,16)\n",
    "x.shape"
   ]
  },
  {
   "cell_type": "code",
   "execution_count": 37,
   "id": "1ba07804",
   "metadata": {},
   "outputs": [
    {
     "data": {
      "text/plain": [
       "torch.Size([1, 16, 3])"
      ]
     },
     "execution_count": 37,
     "metadata": {},
     "output_type": "execute_result"
    }
   ],
   "source": [
    "x=permute(x)\n",
    "x.shape"
   ]
  },
  {
   "cell_type": "code",
   "execution_count": 19,
   "id": "aafc6797",
   "metadata": {},
   "outputs": [
    {
     "data": {
      "text/plain": [
       "torch.Size([1, 16, 3])"
      ]
     },
     "execution_count": 19,
     "metadata": {},
     "output_type": "execute_result"
    }
   ],
   "source": [
    "x.permute(0,2,1).shape"
   ]
  },
  {
   "cell_type": "code",
   "execution_count": 47,
   "id": "6ee70c25",
   "metadata": {},
   "outputs": [],
   "source": [
    "class convd_0(nn.Module):\n",
    "    def __init__(self, out_channels, num_padding, num_kernel):\n",
    "        super().__init__()\n",
    "        self.out_channels = out_channels\n",
    "        self.num_padding = num_padding\n",
    "        self.num_kernel = num_kernel\n",
    "        \n",
    "    def forward(self, x):\n",
    "        if len(x.shape) == 3:\n",
    "            x = F.pad(x, self.num_padding).unsqueeze(dim=1)\n",
    "#         elif len(x.shape) == 4:\n",
    "#             x = F.pad(x, num_padding)\n",
    "        convd_layer = nn.Conv2d(in_channels=1, out_channels=self.out_channels, \n",
    "                                kernel_size=self.num_kernel, device=x.device)\n",
    "        convd_out = convd_layer(x)\n",
    "        if convd_out.shape[2] == 1:\n",
    "            convd_out = convd_out.squeeze(dim=2)\n",
    "        return convd_out.to(x.device)"
   ]
  },
  {
   "cell_type": "code",
   "execution_count": 54,
   "id": "5db70596",
   "metadata": {},
   "outputs": [],
   "source": [
    "x=torch.arange(0,32,dtype=torch.float).reshape(1,2,16)\n",
    "x=x"
   ]
  },
  {
   "cell_type": "code",
   "execution_count": 55,
   "id": "3b7aabb8",
   "metadata": {},
   "outputs": [],
   "source": [
    "layer=convd_0(3,[1,1,0,0],[2,3])"
   ]
  },
  {
   "cell_type": "code",
   "execution_count": 56,
   "id": "478f7cf6",
   "metadata": {},
   "outputs": [],
   "source": [
    "y=layer(x)"
   ]
  },
  {
   "cell_type": "code",
   "execution_count": 57,
   "id": "a6946a33",
   "metadata": {},
   "outputs": [
    {
     "data": {
      "text/plain": [
       "tensor([[[ -0.1430,  -3.8581,  -4.1909,  -4.5236,  -4.8564,  -5.1891,  -5.5218,\n",
       "           -5.8546,  -6.1873,  -6.5201,  -6.8528,  -7.1856,  -7.5183,  -7.8510,\n",
       "           -8.1838, -13.8079],\n",
       "         [ -3.8766,  -6.9053,  -7.3369,  -7.7685,  -8.2001,  -8.6317,  -9.0633,\n",
       "           -9.4949,  -9.9265, -10.3581, -10.7897, -11.2213, -11.6528, -12.0844,\n",
       "          -12.5160,  -6.7222],\n",
       "         [  1.8091,   0.5432,   0.5419,   0.5406,   0.5394,   0.5381,   0.5368,\n",
       "            0.5356,   0.5343,   0.5331,   0.5318,   0.5305,   0.5293,   0.5280,\n",
       "            0.5267,  -2.1856]]], grad_fn=<SqueezeBackward1>)"
      ]
     },
     "execution_count": 57,
     "metadata": {},
     "output_type": "execute_result"
    }
   ],
   "source": [
    "y"
   ]
  },
  {
   "cell_type": "code",
   "execution_count": 2,
   "id": "91b6f78b",
   "metadata": {},
   "outputs": [
    {
     "data": {
      "text/plain": [
       "[1, 2, 3]"
      ]
     },
     "execution_count": 2,
     "metadata": {},
     "output_type": "execute_result"
    }
   ],
   "source": [
    "x=[1,2,3,4]\n",
    "x[0:-1]"
   ]
  },
  {
   "cell_type": "code",
   "execution_count": 12,
   "id": "22db8b75",
   "metadata": {},
   "outputs": [],
   "source": [
    "x=torch.Tensor(x)"
   ]
  },
  {
   "cell_type": "code",
   "execution_count": 21,
   "id": "a5142959",
   "metadata": {},
   "outputs": [
    {
     "ename": "TypeError",
     "evalue": "can only concatenate tuple (not \"Tensor\") to tuple",
     "output_type": "error",
     "traceback": [
      "\u001b[1;31m---------------------------------------------------------------------------\u001b[0m",
      "\u001b[1;31mTypeError\u001b[0m                                 Traceback (most recent call last)",
      "Input \u001b[1;32mIn [21]\u001b[0m, in \u001b[0;36m<cell line: 1>\u001b[1;34m()\u001b[0m\n\u001b[1;32m----> 1\u001b[0m x\u001b[38;5;241m.\u001b[39mreshape(\u001b[43mx\u001b[49m\u001b[38;5;241;43m.\u001b[39;49m\u001b[43mshape\u001b[49m\u001b[38;5;241;43m+\u001b[39;49m\u001b[43mtorch\u001b[49m\u001b[38;5;241;43m.\u001b[39;49m\u001b[43mTensor\u001b[49m\u001b[43m(\u001b[49m\u001b[43m[\u001b[49m\u001b[38;5;241;43m1\u001b[39;49m\u001b[43m]\u001b[49m\u001b[43m)\u001b[49m)\n",
      "\u001b[1;31mTypeError\u001b[0m: can only concatenate tuple (not \"Tensor\") to tuple"
     ]
    }
   ],
   "source": [
    "x.reshape(x.shape+torch.Tensor([1]))"
   ]
  },
  {
   "cell_type": "code",
   "execution_count": 29,
   "id": "0f0fbc38",
   "metadata": {},
   "outputs": [
    {
     "ename": "TypeError",
     "evalue": "reshape(): argument 'shape' (position 1) must be tuple of ints, not list",
     "output_type": "error",
     "traceback": [
      "\u001b[1;31m---------------------------------------------------------------------------\u001b[0m",
      "\u001b[1;31mTypeError\u001b[0m                                 Traceback (most recent call last)",
      "Input \u001b[1;32mIn [29]\u001b[0m, in \u001b[0;36m<cell line: 1>\u001b[1;34m()\u001b[0m\n\u001b[1;32m----> 1\u001b[0m \u001b[43mx\u001b[49m\u001b[38;5;241;43m.\u001b[39;49m\u001b[43mreshape\u001b[49m\u001b[43m(\u001b[49m\u001b[43m[\u001b[49m\u001b[43mx\u001b[49m\u001b[38;5;241;43m.\u001b[39;49m\u001b[43mshape\u001b[49m\u001b[43m,\u001b[49m\u001b[38;5;241;43m1\u001b[39;49m\u001b[43m]\u001b[49m\u001b[43m)\u001b[49m\n",
      "\u001b[1;31mTypeError\u001b[0m: reshape(): argument 'shape' (position 1) must be tuple of ints, not list"
     ]
    }
   ],
   "source": [
    "x.reshape([x.shape,1])"
   ]
  },
  {
   "cell_type": "code",
   "execution_count": null,
   "id": "71bf3db3",
   "metadata": {},
   "outputs": [],
   "source": []
  }
 ],
 "metadata": {
  "kernelspec": {
   "display_name": "Python 3 (ipykernel)",
   "language": "python",
   "name": "python3"
  },
  "language_info": {
   "codemirror_mode": {
    "name": "ipython",
    "version": 3
   },
   "file_extension": ".py",
   "mimetype": "text/x-python",
   "name": "python",
   "nbconvert_exporter": "python",
   "pygments_lexer": "ipython3",
   "version": "3.9.12"
  }
 },
 "nbformat": 4,
 "nbformat_minor": 5
}
